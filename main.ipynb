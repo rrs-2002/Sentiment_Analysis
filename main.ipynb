{
 "cells": [
  {
   "cell_type": "code",
   "execution_count": 39,
   "metadata": {},
   "outputs": [
    {
     "name": "stdout",
     "output_type": "stream",
     "text": [
      "Hello, World\n"
     ]
    }
   ],
   "source": [
    "print('Hello, World')"
   ]
  },
  {
   "cell_type": "code",
   "execution_count": 40,
   "metadata": {},
   "outputs": [],
   "source": [
    "# Import pandas for data preprocessing\n",
    "import pandas as pd"
   ]
  },
  {
   "cell_type": "code",
   "execution_count": 41,
   "metadata": {},
   "outputs": [
    {
     "name": "stdout",
     "output_type": "stream",
     "text": [
      "       textID                                               text  \\\n",
      "0  cb774db0d1                I`d have responded, if I were going   \n",
      "1  549e992a42      Sooo SAD I will miss you here in San Diego!!!   \n",
      "2  088c60f138                          my boss is bullying me...   \n",
      "3  9642c003ef                     what interview! leave me alone   \n",
      "4  358bd9e861   Sons of ****, why couldn`t they put them on t...   \n",
      "5  28b57f3990  http://www.dothebouncy.com/smf - some shameles...   \n",
      "6  6e0c6d75b1  2am feedings for the baby are fun when he is a...   \n",
      "7  50e14c0bb8                                         Soooo high   \n",
      "8  e050245fbd                                        Both of you   \n",
      "9  fc2cbefa9d   Journey!? Wow... u just became cooler.  hehe....   \n",
      "\n",
      "                                       selected_text sentiment Time of Tweet  \\\n",
      "0                I`d have responded, if I were going   neutral       morning   \n",
      "1                                           Sooo SAD  negative          noon   \n",
      "2                                        bullying me  negative         night   \n",
      "3                                     leave me alone  negative       morning   \n",
      "4                                      Sons of ****,  negative          noon   \n",
      "5  http://www.dothebouncy.com/smf - some shameles...   neutral         night   \n",
      "6                                                fun  positive       morning   \n",
      "7                                         Soooo high   neutral          noon   \n",
      "8                                        Both of you   neutral         night   \n",
      "9                       Wow... u just became cooler.  positive       morning   \n",
      "\n",
      "  Age of User              Country  Population -2020  Land Area (Km²)  \\\n",
      "0        0-20          Afghanistan          38928346         652860.0   \n",
      "1       21-30              Albania           2877797          27400.0   \n",
      "2       31-45              Algeria          43851044        2381740.0   \n",
      "3       46-60              Andorra             77265            470.0   \n",
      "4       60-70               Angola          32866272        1246700.0   \n",
      "5      70-100  Antigua and Barbuda             97929            440.0   \n",
      "6        0-20            Argentina          45195774        2736690.0   \n",
      "7       21-30              Armenia           2963243          28470.0   \n",
      "8       31-45            Australia          25499884        7682300.0   \n",
      "9       46-60              Austria           9006398          82400.0   \n",
      "\n",
      "   Density (P/Km²)  \n",
      "0               60  \n",
      "1              105  \n",
      "2               18  \n",
      "3              164  \n",
      "4               26  \n",
      "5              223  \n",
      "6               17  \n",
      "7              104  \n",
      "8                3  \n",
      "9              109  \n"
     ]
    }
   ],
   "source": [
    "df1_train = pd.read_csv('archive/train.csv', encoding='latin1')\n",
    "\n",
    "print(df1_train.head(10))"
   ]
  },
  {
   "cell_type": "code",
   "execution_count": 42,
   "metadata": {},
   "outputs": [
    {
     "name": "stdout",
     "output_type": "stream",
     "text": [
      "       textID                                               text sentiment  \\\n",
      "0  f87dea47db  Last session of the day  http://twitpic.com/67ezh   neutral   \n",
      "1  96d74cb729   Shanghai is also really exciting (precisely -...  positive   \n",
      "2  eee518ae67  Recession hit Veronique Branquinho, she has to...  negative   \n",
      "3  01082688c6                                        happy bday!  positive   \n",
      "4  33987a8ee5             http://twitpic.com/4w75p - I like it!!  positive   \n",
      "5  726e501993                    that`s great!! weee!! visitors!  positive   \n",
      "6  261932614e            I THINK EVERYONE HATES ME ON HERE   lol  negative   \n",
      "7  afa11da83f   soooooo wish i could, but im in school and my...  negative   \n",
      "8  e64208b4ef   and within a short time of the last clue all ...   neutral   \n",
      "9  37bcad24ca   What did you get?  My day is alright.. haven`...   neutral   \n",
      "\n",
      "  Time of Tweet Age of User              Country  Population -2020  \\\n",
      "0       morning        0-20          Afghanistan        38928346.0   \n",
      "1          noon       21-30              Albania         2877797.0   \n",
      "2         night       31-45              Algeria        43851044.0   \n",
      "3       morning       46-60              Andorra           77265.0   \n",
      "4          noon       60-70               Angola        32866272.0   \n",
      "5         night      70-100  Antigua and Barbuda           97929.0   \n",
      "6       morning        0-20            Argentina        45195774.0   \n",
      "7          noon       21-30              Armenia         2963243.0   \n",
      "8         night       31-45            Australia        25499884.0   \n",
      "9       morning       46-60              Austria         9006398.0   \n",
      "\n",
      "   Land Area (Km²)  Density (P/Km²)  \n",
      "0         652860.0             60.0  \n",
      "1          27400.0            105.0  \n",
      "2        2381740.0             18.0  \n",
      "3            470.0            164.0  \n",
      "4        1246700.0             26.0  \n",
      "5            440.0            223.0  \n",
      "6        2736690.0             17.0  \n",
      "7          28470.0            104.0  \n",
      "8        7682300.0              3.0  \n",
      "9          82400.0            109.0  \n"
     ]
    }
   ],
   "source": [
    "df1_test = pd.read_csv('archive/test.csv', encoding='latin1')\n",
    "\n",
    "print(df1_test.head(10))"
   ]
  },
  {
   "cell_type": "code",
   "execution_count": 43,
   "metadata": {},
   "outputs": [
    {
     "name": "stdout",
     "output_type": "stream",
     "text": [
      "0                  I`d have responded, if I were going\n",
      "1                                             Sooo SAD\n",
      "2                                          bullying me\n",
      "3                                       leave me alone\n",
      "4                                        Sons of ****,\n",
      "5    http://www.dothebouncy.com/smf - some shameles...\n",
      "6                                                  fun\n",
      "7                                           Soooo high\n",
      "8                                          Both of you\n",
      "9                         Wow... u just became cooler.\n",
      "Name: selected_text, dtype: object\n"
     ]
    }
   ],
   "source": [
    "print(df1_train['selected_text'].head(10))"
   ]
  },
  {
   "cell_type": "code",
   "execution_count": 44,
   "metadata": {},
   "outputs": [
    {
     "name": "stdout",
     "output_type": "stream",
     "text": [
      "1\n"
     ]
    }
   ],
   "source": [
    "# Check for any missing values present in the column 'selected_text'\n",
    "print(df1_train['selected_text'].isna().sum())"
   ]
  },
  {
   "cell_type": "code",
   "execution_count": 45,
   "metadata": {},
   "outputs": [
    {
     "name": "stdout",
     "output_type": "stream",
     "text": [
      "1281\n"
     ]
    }
   ],
   "source": [
    "# Check for any missing values present in the column 'text' test dataset\n",
    "print(df1_test['text'].isna().sum())"
   ]
  },
  {
   "cell_type": "code",
   "execution_count": 46,
   "metadata": {},
   "outputs": [
    {
     "name": "stdout",
     "output_type": "stream",
     "text": [
      "<class 'pandas.core.frame.DataFrame'>\n",
      "RangeIndex: 27481 entries, 0 to 27480\n",
      "Data columns (total 10 columns):\n",
      " #   Column            Non-Null Count  Dtype  \n",
      "---  ------            --------------  -----  \n",
      " 0   textID            27481 non-null  object \n",
      " 1   text              27480 non-null  object \n",
      " 2   selected_text     27480 non-null  object \n",
      " 3   sentiment         27481 non-null  object \n",
      " 4   Time of Tweet     27481 non-null  object \n",
      " 5   Age of User       27481 non-null  object \n",
      " 6   Country           27481 non-null  object \n",
      " 7   Population -2020  27481 non-null  int64  \n",
      " 8   Land Area (Km²)   27481 non-null  float64\n",
      " 9   Density (P/Km²)   27481 non-null  int64  \n",
      "dtypes: float64(1), int64(2), object(7)\n",
      "memory usage: 2.1+ MB\n",
      "None\n"
     ]
    }
   ],
   "source": [
    "print(df1_train.info())"
   ]
  },
  {
   "cell_type": "code",
   "execution_count": 47,
   "metadata": {},
   "outputs": [
    {
     "name": "stdout",
     "output_type": "stream",
     "text": [
      "<class 'pandas.core.frame.DataFrame'>\n",
      "RangeIndex: 4815 entries, 0 to 4814\n",
      "Data columns (total 9 columns):\n",
      " #   Column            Non-Null Count  Dtype  \n",
      "---  ------            --------------  -----  \n",
      " 0   textID            3534 non-null   object \n",
      " 1   text              3534 non-null   object \n",
      " 2   sentiment         3534 non-null   object \n",
      " 3   Time of Tweet     3534 non-null   object \n",
      " 4   Age of User       3534 non-null   object \n",
      " 5   Country           3534 non-null   object \n",
      " 6   Population -2020  3534 non-null   float64\n",
      " 7   Land Area (Km²)   3534 non-null   float64\n",
      " 8   Density (P/Km²)   3534 non-null   float64\n",
      "dtypes: float64(3), object(6)\n",
      "memory usage: 338.7+ KB\n",
      "None\n"
     ]
    }
   ],
   "source": [
    "print(df1_test.info())"
   ]
  },
  {
   "cell_type": "code",
   "execution_count": 48,
   "metadata": {},
   "outputs": [
    {
     "name": "stdout",
     "output_type": "stream",
     "text": [
      "0\n"
     ]
    }
   ],
   "source": [
    "# Drop the rows with missing values\n",
    "df1_train.dropna(subset=['selected_text'], inplace=True)\n",
    "\n",
    "# Check for any missing values present in the column 'selected_text'\n",
    "print(df1_train['selected_text'].isna().sum())"
   ]
  },
  {
   "cell_type": "code",
   "execution_count": 49,
   "metadata": {},
   "outputs": [
    {
     "name": "stdout",
     "output_type": "stream",
     "text": [
      "0\n"
     ]
    }
   ],
   "source": [
    "# Drop the rows with missing values test dataset\n",
    "df1_test.dropna(subset=['text'], inplace=True)\n",
    "\n",
    "# Check for any missing values present in the column 'text' test dataset\n",
    "print(df1_test['text'].isna().sum())"
   ]
  },
  {
   "cell_type": "code",
   "execution_count": 50,
   "metadata": {},
   "outputs": [
    {
     "name": "stdout",
     "output_type": "stream",
     "text": [
      "0\n"
     ]
    }
   ],
   "source": [
    "# Check for any duplicates in the training data\n",
    "print(df1_train.duplicated().sum())"
   ]
  },
  {
   "cell_type": "code",
   "execution_count": 51,
   "metadata": {},
   "outputs": [
    {
     "name": "stdout",
     "output_type": "stream",
     "text": [
      "0\n"
     ]
    }
   ],
   "source": [
    "# Check for any duplicates in the test data\n",
    "print(df1_test.duplicated().sum())"
   ]
  },
  {
   "cell_type": "code",
   "execution_count": 52,
   "metadata": {},
   "outputs": [
    {
     "name": "stdout",
     "output_type": "stream",
     "text": [
      "<class 'pandas.core.frame.DataFrame'>\n",
      "Index: 3534 entries, 0 to 3533\n",
      "Data columns (total 9 columns):\n",
      " #   Column            Non-Null Count  Dtype  \n",
      "---  ------            --------------  -----  \n",
      " 0   textID            3534 non-null   object \n",
      " 1   text              3534 non-null   object \n",
      " 2   sentiment         3534 non-null   object \n",
      " 3   Time of Tweet     3534 non-null   object \n",
      " 4   Age of User       3534 non-null   object \n",
      " 5   Country           3534 non-null   object \n",
      " 6   Population -2020  3534 non-null   float64\n",
      " 7   Land Area (Km²)   3534 non-null   float64\n",
      " 8   Density (P/Km²)   3534 non-null   float64\n",
      "dtypes: float64(3), object(6)\n",
      "memory usage: 276.1+ KB\n",
      "None\n"
     ]
    }
   ],
   "source": [
    "print(df1_test.info())"
   ]
  },
  {
   "cell_type": "code",
   "execution_count": 53,
   "metadata": {},
   "outputs": [
    {
     "name": "stdout",
     "output_type": "stream",
     "text": [
      "sentiment\n",
      "neutral     11117\n",
      "positive     8582\n",
      "negative     7781\n",
      "Name: count, dtype: int64\n"
     ]
    }
   ],
   "source": [
    "# Check if the distribution of sentiment labels in the dataset is imbalanced\n",
    "print(df1_train['sentiment'].value_counts())"
   ]
  },
  {
   "cell_type": "code",
   "execution_count": 54,
   "metadata": {},
   "outputs": [],
   "source": [
    "# We can assume that the distribution of sentiment labels in the dataset is balanced"
   ]
  },
  {
   "cell_type": "code",
   "execution_count": 55,
   "metadata": {},
   "outputs": [
    {
     "name": "stdout",
     "output_type": "stream",
     "text": [
      "                                       selected_text sentiment\n",
      "0                I`d have responded, if I were going   neutral\n",
      "1                                           Sooo SAD  negative\n",
      "2                                        bullying me  negative\n",
      "3                                     leave me alone  negative\n",
      "4                                      Sons of ****,  negative\n",
      "5  http://www.dothebouncy.com/smf - some shameles...   neutral\n",
      "6                                                fun  positive\n",
      "7                                         Soooo high   neutral\n",
      "8                                        Both of you   neutral\n",
      "9                       Wow... u just became cooler.  positive\n"
     ]
    }
   ],
   "source": [
    "# Select only the 'selected_text' and 'sentiment' columns from the training data\n",
    "df1_train = df1_train[['selected_text', 'sentiment']]\n",
    "print(df1_train.head(10))"
   ]
  },
  {
   "cell_type": "code",
   "execution_count": 56,
   "metadata": {},
   "outputs": [
    {
     "name": "stdout",
     "output_type": "stream",
     "text": [
      "                                                text sentiment\n",
      "0  Last session of the day  http://twitpic.com/67ezh   neutral\n",
      "1   Shanghai is also really exciting (precisely -...  positive\n",
      "2  Recession hit Veronique Branquinho, she has to...  negative\n",
      "3                                        happy bday!  positive\n",
      "4             http://twitpic.com/4w75p - I like it!!  positive\n",
      "5                    that`s great!! weee!! visitors!  positive\n",
      "6            I THINK EVERYONE HATES ME ON HERE   lol  negative\n",
      "7   soooooo wish i could, but im in school and my...  negative\n",
      "8   and within a short time of the last clue all ...   neutral\n",
      "9   What did you get?  My day is alright.. haven`...   neutral\n"
     ]
    }
   ],
   "source": [
    "# Select only the 'text' and 'sentiment' columns from the test data\n",
    "df1_test = df1_test[['text', 'sentiment']]\n",
    "print(df1_test.head(10))"
   ]
  },
  {
   "cell_type": "code",
   "execution_count": 57,
   "metadata": {},
   "outputs": [],
   "source": [
    "# Perform cleaning and preprocessing on the 'selected_text' column training data and 'text' column test\n",
    "# data"
   ]
  },
  {
   "cell_type": "code",
   "execution_count": 58,
   "metadata": {},
   "outputs": [
    {
     "name": "stdout",
     "output_type": "stream",
     "text": [
      "                                       selected_text sentiment\n",
      "0                i`d have responded, if i were going   neutral\n",
      "1                                           sooo sad  negative\n",
      "2                                        bullying me  negative\n",
      "3                                     leave me alone  negative\n",
      "4                                      sons of ****,  negative\n",
      "5  http://www.dothebouncy.com/smf - some shameles...   neutral\n",
      "6                                                fun  positive\n",
      "7                                         soooo high   neutral\n",
      "8                                        both of you   neutral\n",
      "9                       wow... u just became cooler.  positive\n"
     ]
    }
   ],
   "source": [
    "# Convert the 'selected_text' column to lowercase\n",
    "df1_train['selected_text'] = df1_train['selected_text'].str.lower()\n",
    "print(df1_train.head(10))"
   ]
  },
  {
   "cell_type": "code",
   "execution_count": 59,
   "metadata": {},
   "outputs": [
    {
     "name": "stdout",
     "output_type": "stream",
     "text": [
      "                                                text sentiment\n",
      "0  last session of the day  http://twitpic.com/67ezh   neutral\n",
      "1   shanghai is also really exciting (precisely -...  positive\n",
      "2  recession hit veronique branquinho, she has to...  negative\n",
      "3                                        happy bday!  positive\n",
      "4             http://twitpic.com/4w75p - i like it!!  positive\n",
      "5                    that`s great!! weee!! visitors!  positive\n",
      "6            i think everyone hates me on here   lol  negative\n",
      "7   soooooo wish i could, but im in school and my...  negative\n",
      "8   and within a short time of the last clue all ...   neutral\n",
      "9   what did you get?  my day is alright.. haven`...   neutral\n"
     ]
    }
   ],
   "source": [
    "# Convert the 'text' column to lowercase test data\n",
    "df1_test['text'] = df1_test['text'].str.lower()\n",
    "print(df1_test.head(10))"
   ]
  },
  {
   "cell_type": "code",
   "execution_count": 60,
   "metadata": {},
   "outputs": [
    {
     "name": "stdout",
     "output_type": "stream",
     "text": [
      "                                       selected_text sentiment\n",
      "0                i`d have responded, if i were going   neutral\n",
      "1                                           sooo sad  negative\n",
      "2                                        bullying me  negative\n",
      "3                                     leave me alone  negative\n",
      "4                                      sons of ****,  negative\n",
      "5  http://www.dothebouncy.com/smf - some shameles...   neutral\n",
      "6                                                fun  positive\n",
      "7                                         soooo high   neutral\n",
      "8                                        both of you   neutral\n",
      "9                       wow... u just became cooler.  positive\n"
     ]
    }
   ],
   "source": [
    "# Remove any leading or trailing whitespaces from the 'selected_text' column\n",
    "df1_train['selected_text'] = df1_train['selected_text'].str.strip()\n",
    "print(df1_train.head(10))"
   ]
  },
  {
   "cell_type": "code",
   "execution_count": 61,
   "metadata": {},
   "outputs": [
    {
     "name": "stdout",
     "output_type": "stream",
     "text": [
      "                                                text sentiment\n",
      "0  last session of the day  http://twitpic.com/67ezh   neutral\n",
      "1  shanghai is also really exciting (precisely --...  positive\n",
      "2  recession hit veronique branquinho, she has to...  negative\n",
      "3                                        happy bday!  positive\n",
      "4             http://twitpic.com/4w75p - i like it!!  positive\n",
      "5                    that`s great!! weee!! visitors!  positive\n",
      "6            i think everyone hates me on here   lol  negative\n",
      "7  soooooo wish i could, but im in school and mys...  negative\n",
      "8  and within a short time of the last clue all o...   neutral\n",
      "9  what did you get?  my day is alright.. haven`t...   neutral\n"
     ]
    }
   ],
   "source": [
    "# Remove any leading or trailing whitespaces from the 'text' column test data\n",
    "df1_test['text'] = df1_test['text'].str.strip()\n",
    "print(df1_test.head(10))"
   ]
  },
  {
   "cell_type": "code",
   "execution_count": 62,
   "metadata": {},
   "outputs": [
    {
     "name": "stdout",
     "output_type": "stream",
     "text": [
      "                                       selected_text sentiment\n",
      "0                i`d have responded, if i were going   neutral\n",
      "1                                           sooo sad  negative\n",
      "2                                        bullying me  negative\n",
      "3                                     leave me alone  negative\n",
      "4                                      sons of ****,  negative\n",
      "5  http://www.dothebouncy.com/smf - some shameles...   neutral\n",
      "6                                                fun  positive\n",
      "7                                         soooo high   neutral\n",
      "8                                        both of you   neutral\n",
      "9                       wow... u just became cooler.  positive\n"
     ]
    }
   ],
   "source": [
    "# Remove any special characters from the 'selected_text' column\n",
    "df1_train['selected_text'] = df1_train['selected_text'].str.replace('[^a-zA-Z0-9\\s]', '')\n",
    "print(df1_train.head(10))"
   ]
  },
  {
   "cell_type": "code",
   "execution_count": 63,
   "metadata": {},
   "outputs": [
    {
     "name": "stdout",
     "output_type": "stream",
     "text": [
      "                                                text sentiment\n",
      "0  last session of the day  http://twitpic.com/67ezh   neutral\n",
      "1  shanghai is also really exciting (precisely --...  positive\n",
      "2  recession hit veronique branquinho, she has to...  negative\n",
      "3                                        happy bday!  positive\n",
      "4             http://twitpic.com/4w75p - i like it!!  positive\n",
      "5                    that`s great!! weee!! visitors!  positive\n",
      "6            i think everyone hates me on here   lol  negative\n",
      "7  soooooo wish i could, but im in school and mys...  negative\n",
      "8  and within a short time of the last clue all o...   neutral\n",
      "9  what did you get?  my day is alright.. haven`t...   neutral\n"
     ]
    }
   ],
   "source": [
    "# Remove any special characters from the 'text' column test data\n",
    "df1_test['text'] = df1_test['text'].str.replace('[^a-zA-Z0-9\\s]', '')\n",
    "print(df1_test.head(10))"
   ]
  },
  {
   "cell_type": "code",
   "execution_count": 64,
   "metadata": {},
   "outputs": [
    {
     "name": "stdout",
     "output_type": "stream",
     "text": [
      "                                       selected_text sentiment\n",
      "0                i`d have responded, if i were going   neutral\n",
      "1                                           sooo sad  negative\n",
      "2                                        bullying me  negative\n",
      "3                                     leave me alone  negative\n",
      "4                                      sons of ****,  negative\n",
      "5  http://www.dothebouncy.com/smf - some shameles...   neutral\n",
      "6                                                fun  positive\n",
      "7                                         soooo high   neutral\n",
      "8                                        both of you   neutral\n",
      "9                       wow... u just became cooler.  positive\n"
     ]
    }
   ],
   "source": [
    "# Remove HTML tags\n",
    "import re\n",
    "\n",
    "def remove_html_tags(text):\n",
    "    clean = re.compile('<.*?>')\n",
    "    return re.sub(clean, '', text)\n",
    "\n",
    "df1_train['selected_text'] = df1_train['selected_text'].apply(lambda x: remove_html_tags(x))\n",
    "print(df1_train.head(10))"
   ]
  },
  {
   "cell_type": "code",
   "execution_count": 65,
   "metadata": {},
   "outputs": [
    {
     "name": "stdout",
     "output_type": "stream",
     "text": [
      "                                                text sentiment\n",
      "0  last session of the day  http://twitpic.com/67ezh   neutral\n",
      "1  shanghai is also really exciting (precisely --...  positive\n",
      "2  recession hit veronique branquinho, she has to...  negative\n",
      "3                                        happy bday!  positive\n",
      "4             http://twitpic.com/4w75p - i like it!!  positive\n",
      "5                    that`s great!! weee!! visitors!  positive\n",
      "6            i think everyone hates me on here   lol  negative\n",
      "7  soooooo wish i could, but im in school and mys...  negative\n",
      "8  and within a short time of the last clue all o...   neutral\n",
      "9  what did you get?  my day is alright.. haven`t...   neutral\n"
     ]
    }
   ],
   "source": [
    "# Remove HTML tags test data\n",
    "df1_test['text'] = df1_test['text'].apply(lambda x: remove_html_tags(x))\n",
    "print(df1_test.head(10))"
   ]
  },
  {
   "cell_type": "code",
   "execution_count": 66,
   "metadata": {},
   "outputs": [
    {
     "name": "stdout",
     "output_type": "stream",
     "text": [
      "                                       selected_text sentiment\n",
      "0                  id have responded if i were going   neutral\n",
      "1                                           sooo sad  negative\n",
      "2                                        bullying me  negative\n",
      "3                                     leave me alone  negative\n",
      "4                                           sons of   negative\n",
      "5  httpwwwdothebouncycomsmf  some shameless plugg...   neutral\n",
      "6                                                fun  positive\n",
      "7                                         soooo high   neutral\n",
      "8                                        both of you   neutral\n",
      "9                           wow u just became cooler  positive\n"
     ]
    }
   ],
   "source": [
    "# Remove punctuation\n",
    "import string\n",
    "\n",
    "def remove_punctuation(text):\n",
    "    return text.translate(str.maketrans('', '', string.punctuation))\n",
    "\n",
    "df1_train['selected_text'] = df1_train['selected_text'].apply(lambda x: remove_punctuation(x))\n",
    "print(df1_train.head(10))"
   ]
  },
  {
   "cell_type": "code",
   "execution_count": 67,
   "metadata": {},
   "outputs": [
    {
     "name": "stdout",
     "output_type": "stream",
     "text": [
      "                                                text sentiment\n",
      "0       last session of the day  httptwitpiccom67ezh   neutral\n",
      "1  shanghai is also really exciting precisely  sk...  positive\n",
      "2  recession hit veronique branquinho she has to ...  negative\n",
      "3                                         happy bday  positive\n",
      "4                     httptwitpiccom4w75p  i like it  positive\n",
      "5                          thats great weee visitors  positive\n",
      "6            i think everyone hates me on here   lol  negative\n",
      "7  soooooo wish i could but im in school and mysp...  negative\n",
      "8  and within a short time of the last clue all o...   neutral\n",
      "9  what did you get  my day is alright havent don...   neutral\n"
     ]
    }
   ],
   "source": [
    "# Remove punctuation test data\n",
    "df1_test['text'] = df1_test['text'].apply(lambda x: remove_punctuation(x))\n",
    "print(df1_test.head(10))"
   ]
  },
  {
   "cell_type": "code",
   "execution_count": 68,
   "metadata": {},
   "outputs": [
    {
     "name": "stdout",
     "output_type": "stream",
     "text": [
      "                                       selected_text sentiment\n",
      "0                  id have responded if i were going   neutral\n",
      "1                                           sooo sad  negative\n",
      "2                                        bullying me  negative\n",
      "3                                     leave me alone  negative\n",
      "4                                           sons of   negative\n",
      "5  httpwwwdothebouncycomsmf  some shameless plugg...   neutral\n",
      "6                                                fun  positive\n",
      "7                                         soooo high   neutral\n",
      "8                                        both of you   neutral\n",
      "9                           wow u just became cooler  positive\n"
     ]
    }
   ],
   "source": [
    "# Remove newlines\n",
    "def remove_newlines(text):\n",
    "    return text.replace('\\n', ' ')\n",
    "\n",
    "df1_train['selected_text'] = df1_train['selected_text'].apply(lambda x: remove_newlines(x))\n",
    "print(df1_train.head(10))"
   ]
  },
  {
   "cell_type": "code",
   "execution_count": 69,
   "metadata": {},
   "outputs": [
    {
     "name": "stdout",
     "output_type": "stream",
     "text": [
      "                                                text sentiment\n",
      "0       last session of the day  httptwitpiccom67ezh   neutral\n",
      "1  shanghai is also really exciting precisely  sk...  positive\n",
      "2  recession hit veronique branquinho she has to ...  negative\n",
      "3                                         happy bday  positive\n",
      "4                     httptwitpiccom4w75p  i like it  positive\n",
      "5                          thats great weee visitors  positive\n",
      "6            i think everyone hates me on here   lol  negative\n",
      "7  soooooo wish i could but im in school and mysp...  negative\n",
      "8  and within a short time of the last clue all o...   neutral\n",
      "9  what did you get  my day is alright havent don...   neutral\n"
     ]
    }
   ],
   "source": [
    "# Remove newlines test data\n",
    "df1_test['text'] = df1_test['text'].apply(lambda x: remove_newlines(x))\n",
    "print(df1_test.head(10))"
   ]
  },
  {
   "cell_type": "code",
   "execution_count": 70,
   "metadata": {},
   "outputs": [
    {
     "name": "stdout",
     "output_type": "stream",
     "text": [
      "                                       selected_text sentiment\n",
      "0                  id have responded if i were going   neutral\n",
      "1                                           sooo sad  negative\n",
      "2                                        bullying me  negative\n",
      "3                                     leave me alone  negative\n",
      "4                                            sons of  negative\n",
      "5  httpwwwdothebouncycomsmf some shameless pluggi...   neutral\n",
      "6                                                fun  positive\n",
      "7                                         soooo high   neutral\n",
      "8                                        both of you   neutral\n",
      "9                           wow u just became cooler  positive\n"
     ]
    }
   ],
   "source": [
    "# Remove alphanumeric words (words containing digits)\n",
    "def remove_alphanumeric(text):\n",
    "    return ' '.join(word for word in text.split() if not any(c.isdigit() for c in word))\n",
    "\n",
    "df1_train['selected_text'] = df1_train['selected_text'].apply(lambda x: remove_alphanumeric(x))\n",
    "print(df1_train.head(10))"
   ]
  },
  {
   "cell_type": "code",
   "execution_count": 71,
   "metadata": {},
   "outputs": [
    {
     "name": "stdout",
     "output_type": "stream",
     "text": [
      "                                                text sentiment\n",
      "0                            last session of the day   neutral\n",
      "1  shanghai is also really exciting precisely sky...  positive\n",
      "2  recession hit veronique branquinho she has to ...  negative\n",
      "3                                         happy bday  positive\n",
      "4                                          i like it  positive\n",
      "5                          thats great weee visitors  positive\n",
      "6              i think everyone hates me on here lol  negative\n",
      "7  soooooo wish i could but im in school and mysp...  negative\n",
      "8  and within a short time of the last clue all o...   neutral\n",
      "9  what did you get my day is alright havent done...   neutral\n"
     ]
    }
   ],
   "source": [
    "# Remove alphanumeric words (words containing digits) test data\n",
    "df1_test['text'] = df1_test['text'].apply(lambda x: remove_alphanumeric(x))\n",
    "print(df1_test.head(10))"
   ]
  },
  {
   "cell_type": "code",
   "execution_count": 72,
   "metadata": {},
   "outputs": [
    {
     "name": "stdout",
     "output_type": "stream",
     "text": [
      "                                       selected_text sentiment\n",
      "0                  id have responded if i were going   neutral\n",
      "1                                            soo sad  negative\n",
      "2                                        bullying me  negative\n",
      "3                                     leave me alone  negative\n",
      "4                                            sons of  negative\n",
      "5  httpwwdothebouncycomsmf some shameless pluggin...   neutral\n",
      "6                                                fun  positive\n",
      "7                                           soo high   neutral\n",
      "8                                        both of you   neutral\n",
      "9                           wow u just became cooler  positive\n"
     ]
    }
   ],
   "source": [
    "# Normalize repeated characters (e.g., \"soooo\" -> \"so\")\n",
    "def normalize_repeated_chars(text):\n",
    "    return re.sub(r'(.)\\1+', r'\\1\\1', text)\n",
    "\n",
    "df1_train['selected_text'] = df1_train['selected_text'].apply(lambda x: normalize_repeated_chars(x))\n",
    "print(df1_train.head(10))"
   ]
  },
  {
   "cell_type": "code",
   "execution_count": 73,
   "metadata": {},
   "outputs": [
    {
     "name": "stdout",
     "output_type": "stream",
     "text": [
      "                                                text sentiment\n",
      "0                            last session of the day   neutral\n",
      "1  shanghai is also really exciting precisely sky...  positive\n",
      "2  recession hit veronique branquinho she has to ...  negative\n",
      "3                                         happy bday  positive\n",
      "4                                          i like it  positive\n",
      "5                           thats great wee visitors  positive\n",
      "6              i think everyone hates me on here lol  negative\n",
      "7  soo wish i could but im in school and myspace ...  negative\n",
      "8  and within a short time of the last clue all o...   neutral\n",
      "9  what did you get my day is alright havent done...   neutral\n"
     ]
    }
   ],
   "source": [
    "# Normalize repeated characters (e.g., \"soooo\" -> \"so\") test data\n",
    "df1_test['text'] = df1_test['text'].apply(lambda x: normalize_repeated_chars(x))\n",
    "print(df1_test.head(10))"
   ]
  },
  {
   "cell_type": "code",
   "execution_count": 74,
   "metadata": {},
   "outputs": [
    {
     "name": "stdout",
     "output_type": "stream",
     "text": [
      "                                       selected_text sentiment\n",
      "0                  id have responded if i were going   neutral\n",
      "1                                            soo sad  negative\n",
      "2                                        bullying me  negative\n",
      "3                                     leave me alone  negative\n",
      "4                                            sons of  negative\n",
      "5  httpwwdothebouncycomsmf some shameless pluggin...   neutral\n",
      "6                                                fun  positive\n",
      "7                                           soo high   neutral\n",
      "8                                        both of you   neutral\n",
      "9                           wow u just became cooler  positive\n"
     ]
    }
   ],
   "source": [
    "# Ensure the 'selected_text' column is of string type\n",
    "df1_train['selected_text'] = df1_train['selected_text'].astype(str)\n",
    "\n",
    "# Check the cleaned and preprocessed 'selected_text' column\n",
    "print(df1_train.head(10))"
   ]
  },
  {
   "cell_type": "code",
   "execution_count": 75,
   "metadata": {},
   "outputs": [
    {
     "name": "stdout",
     "output_type": "stream",
     "text": [
      "                                                text sentiment\n",
      "0                            last session of the day   neutral\n",
      "1  shanghai is also really exciting precisely sky...  positive\n",
      "2  recession hit veronique branquinho she has to ...  negative\n",
      "3                                         happy bday  positive\n",
      "4                                          i like it  positive\n",
      "5                           thats great wee visitors  positive\n",
      "6              i think everyone hates me on here lol  negative\n",
      "7  soo wish i could but im in school and myspace ...  negative\n",
      "8  and within a short time of the last clue all o...   neutral\n",
      "9  what did you get my day is alright havent done...   neutral\n"
     ]
    }
   ],
   "source": [
    "# Ensure the 'selected_text' column is of string type test data\n",
    "df1_test['text'] = df1_test['text'].astype(str)\n",
    "\n",
    "# Check the cleaned and preprocessed 'text' column test data\n",
    "print(df1_test.head(10))"
   ]
  },
  {
   "cell_type": "code",
   "execution_count": 76,
   "metadata": {},
   "outputs": [],
   "source": [
    "# Rename 'selected_text' column to 'text' in the training data\n",
    "df1_train.rename(columns={'selected_text': 'text'}, inplace=True)"
   ]
  },
  {
   "cell_type": "code",
   "execution_count": 77,
   "metadata": {},
   "outputs": [],
   "source": [
    "# Save to df1_train to X.csv and df1_test to y.csv\n",
    "df1_train.to_csv('X.csv', index=False)\n",
    "df1_test.to_csv('y.csv', index=False)"
   ]
  }
 ],
 "metadata": {
  "kernelspec": {
   "display_name": "Python 3 (ipykernel)",
   "language": "python",
   "name": "python3"
  },
  "language_info": {
   "codemirror_mode": {
    "name": "ipython",
    "version": 3
   },
   "file_extension": ".py",
   "mimetype": "text/x-python",
   "name": "python",
   "nbconvert_exporter": "python",
   "pygments_lexer": "ipython3",
   "version": "3.12.7"
  }
 },
 "nbformat": 4,
 "nbformat_minor": 4
}
